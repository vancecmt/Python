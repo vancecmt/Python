{
 "cells": [
  {
   "cell_type": "markdown",
   "id": "a7217945",
   "metadata": {},
   "source": [
    "# Creating, Reading, Appending Files in Files Explore"
   ]
  },
  {
   "cell_type": "code",
   "execution_count": 3,
   "id": "2e21b639",
   "metadata": {},
   "outputs": [],
   "source": [
    "# CREATING FILE\n",
    "# open('file path', mode)\n",
    "write_file = open(r'C:\\My Folder\\Pandas\\Creating, Reading, Appending Tutorial\\Tutorial.txt', 'w')"
   ]
  },
  {
   "cell_type": "code",
   "execution_count": 4,
   "id": "d9fe7768",
   "metadata": {},
   "outputs": [
    {
     "data": {
      "text/plain": [
       "40"
      ]
     },
     "execution_count": 4,
     "metadata": {},
     "output_type": "execute_result"
    }
   ],
   "source": [
    "# open file in write mode and write str into file\n",
    "write_file.write('This is the first sentence in this file!')"
   ]
  },
  {
   "cell_type": "code",
   "execution_count": 5,
   "id": "6f6d8885",
   "metadata": {},
   "outputs": [],
   "source": [
    "# CLOSING A FILE\n",
    "write_file.close()"
   ]
  },
  {
   "cell_type": "code",
   "execution_count": null,
   "id": "2ca083ec",
   "metadata": {},
   "outputs": [],
   "source": []
  },
  {
   "cell_type": "code",
   "execution_count": 6,
   "id": "98d2e00c",
   "metadata": {},
   "outputs": [],
   "source": [
    "# OPEN EXISTING FILE IN APPEND MODE & APPEND MORE DATA INTO FILE\n",
    "append_file = open(r'C:\\My Folder\\Pandas\\Creating, Reading, Appending Tutorial\\Tutorial.txt', 'a')\n",
    "append_file.write(' 2. This is the second sentence in this file!')\n",
    "append_file.close()"
   ]
  },
  {
   "cell_type": "code",
   "execution_count": null,
   "id": "d32a43a6",
   "metadata": {},
   "outputs": [],
   "source": []
  },
  {
   "cell_type": "code",
   "execution_count": null,
   "id": "9c0aa5ff",
   "metadata": {},
   "outputs": [],
   "source": [
    "# FOR BEST PRACTICE, USE CONTEXT MANAGER"
   ]
  },
  {
   "cell_type": "code",
   "execution_count": 7,
   "id": "284c4f9b",
   "metadata": {},
   "outputs": [],
   "source": [
    "with open(r'C:\\My Folder\\Pandas\\Creating, Reading, Appending Tutorial\\Tutorial.txt', 'a') as append_file:\n",
    "    append_file.write('\\n   3. This is the third sentence in this file on a new line!')"
   ]
  },
  {
   "cell_type": "code",
   "execution_count": null,
   "id": "0c45608f",
   "metadata": {},
   "outputs": [],
   "source": []
  },
  {
   "cell_type": "code",
   "execution_count": null,
   "id": "0b369a10",
   "metadata": {},
   "outputs": [],
   "source": [
    "# READ-IN THE FILE"
   ]
  },
  {
   "cell_type": "code",
   "execution_count": 8,
   "id": "17424625",
   "metadata": {},
   "outputs": [
    {
     "name": "stdout",
     "output_type": "stream",
     "text": [
      "This is the first sentence in this file! 2. This is the second sentence in this file!\n",
      "   3. This is the third sentence in this file on a new line!\n"
     ]
    }
   ],
   "source": [
    "with open(r'C:\\My Folder\\Pandas\\Creating, Reading, Appending Tutorial\\Tutorial.txt', 'r') as read_file:\n",
    "    print( read_file.read() )"
   ]
  },
  {
   "cell_type": "code",
   "execution_count": null,
   "id": "955957cc",
   "metadata": {},
   "outputs": [],
   "source": []
  },
  {
   "cell_type": "code",
   "execution_count": 9,
   "id": "ca742f58",
   "metadata": {},
   "outputs": [],
   "source": [
    "# CREATE VARIABLE FOR str TO APPEND\n",
    "\n",
    "multi_line = '''\n",
    "4. This is the fourth sentence!\n",
    "5. This is the fifth sentence!\n",
    "6. This is the sixth sentence!\n",
    "'''\n",
    "\n",
    "with open(r'C:\\My Folder\\Pandas\\Creating, Reading, Appending Tutorial\\Tutorial.txt', 'a') as append_file:\n",
    "    append_file.write(multi_line)"
   ]
  },
  {
   "cell_type": "code",
   "execution_count": 10,
   "id": "5180960d",
   "metadata": {},
   "outputs": [
    {
     "name": "stdout",
     "output_type": "stream",
     "text": [
      "This is the first sentence in this file! 2. This is the second sentence in this file!\n",
      "   3. This is the third sentence in this file on a new line!\n",
      "4. This is the fourth sentence!\n",
      "5. This is the fifth sentence!\n",
      "6. This is the sixth sentence!\n",
      "\n"
     ]
    }
   ],
   "source": [
    "with open(r'C:\\My Folder\\Pandas\\Creating, Reading, Appending Tutorial\\Tutorial.txt', 'r') as read_file:\n",
    "    print( read_file.read() )"
   ]
  },
  {
   "cell_type": "code",
   "execution_count": null,
   "id": "70435e35",
   "metadata": {},
   "outputs": [],
   "source": []
  }
 ],
 "metadata": {
  "kernelspec": {
   "display_name": "Python 3 (ipykernel)",
   "language": "python",
   "name": "python3"
  },
  "language_info": {
   "codemirror_mode": {
    "name": "ipython",
    "version": 3
   },
   "file_extension": ".py",
   "mimetype": "text/x-python",
   "name": "python",
   "nbconvert_exporter": "python",
   "pygments_lexer": "ipython3",
   "version": "3.10.9"
  }
 },
 "nbformat": 4,
 "nbformat_minor": 5
}
