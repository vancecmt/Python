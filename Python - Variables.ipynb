{
 "cells": [
  {
   "cell_type": "markdown",
   "id": "5c47f7ba",
   "metadata": {},
   "source": [
    "# Variables in Python"
   ]
  },
  {
   "cell_type": "code",
   "execution_count": 2,
   "id": "873e53d4",
   "metadata": {},
   "outputs": [
    {
     "name": "stdout",
     "output_type": "stream",
     "text": [
      "37\n"
     ]
    }
   ],
   "source": [
    "x = 37\n",
    "\n",
    "print(x)"
   ]
  },
  {
   "cell_type": "code",
   "execution_count": 3,
   "id": "37fb8e29",
   "metadata": {},
   "outputs": [
    {
     "data": {
      "text/plain": [
       "int"
      ]
     },
     "execution_count": 3,
     "metadata": {},
     "output_type": "execute_result"
    }
   ],
   "source": [
    "type (x)"
   ]
  },
  {
   "cell_type": "code",
   "execution_count": 9,
   "id": "b85be743",
   "metadata": {},
   "outputs": [
    {
     "name": "stdout",
     "output_type": "stream",
     "text": [
      "Zanzibar Chocolate\n"
     ]
    }
   ],
   "source": [
    "y = 'Zanzibar Chocolate'\n",
    "\n",
    "print(y)"
   ]
  },
  {
   "cell_type": "code",
   "execution_count": 6,
   "id": "547895ed",
   "metadata": {},
   "outputs": [
    {
     "data": {
      "text/plain": [
       "str"
      ]
     },
     "execution_count": 6,
     "metadata": {},
     "output_type": "execute_result"
    }
   ],
   "source": [
    "type (y)"
   ]
  },
  {
   "cell_type": "code",
   "execution_count": 12,
   "id": "99f44292",
   "metadata": {},
   "outputs": [
    {
     "name": "stdout",
     "output_type": "stream",
     "text": [
      "Zanzibar Chocolate\n"
     ]
    }
   ],
   "source": [
    "y = 'Ice Latte Da'\n",
    "\n",
    "Y = 'Zanzibar Chocolate'\n",
    "\n",
    "print(Y)"
   ]
  },
  {
   "cell_type": "code",
   "execution_count": 13,
   "id": "e79c874e",
   "metadata": {},
   "outputs": [
    {
     "name": "stdout",
     "output_type": "stream",
     "text": [
      "Chocolate\n",
      "Vanilla\n",
      "Latte\n"
     ]
    }
   ],
   "source": [
    "x,y,z = 'Chocolate', 'Vanilla', 'Latte'\n",
    "\n",
    "print(x)\n",
    "print(y)\n",
    "print(z)"
   ]
  },
  {
   "cell_type": "code",
   "execution_count": 14,
   "id": "1436d499",
   "metadata": {
    "scrolled": true
   },
   "outputs": [
    {
     "name": "stdout",
     "output_type": "stream",
     "text": [
      "Root Beer\n",
      "Root Beer\n",
      "Root Beer\n"
     ]
    }
   ],
   "source": [
    "x = y = z = 'Root Beer'\n",
    "\n",
    "print(x)\n",
    "print(y)\n",
    "print(z)"
   ]
  },
  {
   "cell_type": "code",
   "execution_count": 15,
   "id": "5239a6fe",
   "metadata": {},
   "outputs": [
    {
     "name": "stdout",
     "output_type": "stream",
     "text": [
      "Chocolate\n",
      "Vanilla\n",
      "Latte\n"
     ]
    }
   ],
   "source": [
    "ice_cream = ['Chocolate', 'Vanilla', 'Latte']\n",
    "\n",
    "x,y,z = ice_cream\n",
    "\n",
    "print(x)\n",
    "print(y)\n",
    "print(z)"
   ]
  },
  {
   "cell_type": "code",
   "execution_count": null,
   "id": "44a67c80",
   "metadata": {},
   "outputs": [],
   "source": [
    "# Camel Case\n",
    "    #Test Variable Case\n",
    "    testVariableCase = 'Mango Shake'"
   ]
  },
  {
   "cell_type": "code",
   "execution_count": null,
   "id": "aca2226d",
   "metadata": {},
   "outputs": [],
   "source": [
    "# Pascal Case\n",
    "    #Test Variable Case\n",
    "    TestVariableCase = 'Mango Shake'"
   ]
  },
  {
   "cell_type": "code",
   "execution_count": null,
   "id": "765cabbe",
   "metadata": {},
   "outputs": [],
   "source": [
    "# BEST CASE\n",
    "# Snake Case\n",
    "    #Test Variable Case\n",
    "    test_variable_case = 'Mango Shake'"
   ]
  },
  {
   "cell_type": "code",
   "execution_count": null,
   "id": "e39a4837",
   "metadata": {},
   "outputs": [],
   "source": [
    "testvar = 'Mango Shake'\n",
    "test_var = 'Mango Shake'\n",
    "_testvar = 'Mango Shake'\n",
    "testVar = 'Mango Shake'\n",
    "TestVar = 'Mango Shake'\n",
    "testVar2 = 'Mango Shake'"
   ]
  },
  {
   "cell_type": "code",
   "execution_count": null,
   "id": "34ab81a2",
   "metadata": {},
   "outputs": [],
   "source": [
    "# DO NOT DO THESE\n",
    "\n",
    "2testVar = 'Mango Shake'\n",
    "test-Var2 = 'Mango Shake'\n",
    "test Var2 = 'Mango Shake'\n",
    "test,Var2 = 'Mango Shake'"
   ]
  },
  {
   "cell_type": "code",
   "execution_count": 22,
   "id": "b681df3f",
   "metadata": {},
   "outputs": [
    {
     "name": "stdout",
     "output_type": "stream",
     "text": [
      "Ice Cream is my favorite!\n"
     ]
    }
   ],
   "source": [
    "x = 'Ice Cream is my favorite' + '!'\n",
    "print(x)\n",
    "\n",
    "# CONCANATE BETWEEN SAME DATA TYPES ONLY"
   ]
  },
  {
   "cell_type": "code",
   "execution_count": 19,
   "id": "ebb980ea",
   "metadata": {},
   "outputs": [
    {
     "name": "stdout",
     "output_type": "stream",
     "text": [
      "5\n"
     ]
    }
   ],
   "source": [
    "y = 3 + 2\n",
    "print(y)"
   ]
  },
  {
   "cell_type": "code",
   "execution_count": 23,
   "id": "48e9b123",
   "metadata": {},
   "outputs": [
    {
     "name": "stdout",
     "output_type": "stream",
     "text": [
      "Ice Cream is my favorite!\n"
     ]
    }
   ],
   "source": [
    "x = 'Ice Cream'\n",
    "y = ' is'\n",
    "z = ' my favorite!'\n",
    "\n",
    "print(x + y + z)"
   ]
  },
  {
   "cell_type": "code",
   "execution_count": 24,
   "id": "48e15b8a",
   "metadata": {},
   "outputs": [
    {
     "name": "stdout",
     "output_type": "stream",
     "text": [
      "6\n"
     ]
    }
   ],
   "source": [
    "x = 1\n",
    "y = 2\n",
    "z = 3\n",
    "\n",
    "print(x + y+ z)"
   ]
  },
  {
   "cell_type": "code",
   "execution_count": 1,
   "id": "6dbc0506",
   "metadata": {},
   "outputs": [
    {
     "name": "stdout",
     "output_type": "stream",
     "text": [
      "Me 2 !\n"
     ]
    }
   ],
   "source": [
    "# CONCANATE DIFFERENT DATA TYPES BY \",\" IN print()\n",
    "\n",
    "x = 'Me'\n",
    "y = 2\n",
    "z = '!'\n",
    "\n",
    "print(x,y,z)"
   ]
  },
  {
   "cell_type": "code",
   "execution_count": null,
   "id": "87b8dddd",
   "metadata": {},
   "outputs": [],
   "source": []
  },
  {
   "cell_type": "code",
   "execution_count": null,
   "id": "555a7968",
   "metadata": {},
   "outputs": [],
   "source": []
  },
  {
   "cell_type": "code",
   "execution_count": null,
   "id": "510c419d",
   "metadata": {},
   "outputs": [],
   "source": []
  },
  {
   "cell_type": "code",
   "execution_count": null,
   "id": "8d09dbfe",
   "metadata": {},
   "outputs": [],
   "source": []
  },
  {
   "cell_type": "code",
   "execution_count": null,
   "id": "3de93d3f",
   "metadata": {},
   "outputs": [],
   "source": []
  }
 ],
 "metadata": {
  "kernelspec": {
   "display_name": "Python 3 (ipykernel)",
   "language": "python",
   "name": "python3"
  },
  "language_info": {
   "codemirror_mode": {
    "name": "ipython",
    "version": 3
   },
   "file_extension": ".py",
   "mimetype": "text/x-python",
   "name": "python",
   "nbconvert_exporter": "python",
   "pygments_lexer": "ipython3",
   "version": "3.10.9"
  }
 },
 "nbformat": 4,
 "nbformat_minor": 5
}
