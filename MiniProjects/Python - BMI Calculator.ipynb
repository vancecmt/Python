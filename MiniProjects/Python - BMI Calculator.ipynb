{
 "cells": [
  {
   "cell_type": "markdown",
   "id": "90c78900",
   "metadata": {},
   "source": [
    "# BMI Calculator"
   ]
  },
  {
   "cell_type": "code",
   "execution_count": 1,
   "id": "081a1e5f",
   "metadata": {},
   "outputs": [],
   "source": [
    "# BMI = (weight in pounds * 703) / (height in inches ^ 2)"
   ]
  },
  {
   "cell_type": "code",
   "execution_count": 10,
   "id": "88c6834a",
   "metadata": {},
   "outputs": [
    {
     "name": "stdout",
     "output_type": "stream",
     "text": [
      "Enter your name: Vance\n",
      "Enter your weight in pounds: 110\n",
      "Enter your height in inches: 66\n",
      "Vance, your BMI is: 17.75!\n",
      "Vance, you are Underweight! You are at Minimal health risk.\n"
     ]
    }
   ],
   "source": [
    "name = input(\"Enter your name: \")\n",
    "\n",
    "weight = int(input(\"Enter your weight in pounds: \"))\n",
    "height = int(input(\"Enter your height in inches: \"))\n",
    "\n",
    "bmi = (weight * 703) / (height * height)\n",
    "\n",
    "print(name + ', your BMI is: ' + str(round(bmi,2)) + '!')\n",
    "\n",
    "\n",
    "if bmi > 0:\n",
    "\n",
    "    if bmi < 18.5:\n",
    "        print(name + ', you are Underweight! You are at Minimal health risk.')\n",
    "        \n",
    "    elif bmi <= 24.9:\n",
    "        print(name + ', you are Normal Weight! You are at Minimal health risk.')\n",
    "        \n",
    "    elif bmi <= 29.9:\n",
    "        print(name + ', you are Overweight! You are at Increased health risk.')\n",
    "        \n",
    "    elif bmi <= 34.9:\n",
    "        print(name + ', you are Obese! You are at High health risk.')\n",
    "        \n",
    "    elif bmi <= 39.9:\n",
    "        print(name + \", you are Severely Obese! You are at Very High health risk.\")\n",
    "        \n",
    "    else:\n",
    "        print(name + \", you are Morbidly Obese! You are at Extremely High health risk.\")\n",
    "\n",
    "else:\n",
    "    print(\"Please enter VALID input!\")"
   ]
  },
  {
   "cell_type": "code",
   "execution_count": null,
   "id": "00cb60de",
   "metadata": {},
   "outputs": [],
   "source": []
  }
 ],
 "metadata": {
  "kernelspec": {
   "display_name": "Python 3 (ipykernel)",
   "language": "python",
   "name": "python3"
  },
  "language_info": {
   "codemirror_mode": {
    "name": "ipython",
    "version": 3
   },
   "file_extension": ".py",
   "mimetype": "text/x-python",
   "name": "python",
   "nbconvert_exporter": "python",
   "pygments_lexer": "ipython3",
   "version": "3.10.9"
  }
 },
 "nbformat": 4,
 "nbformat_minor": 5
}
