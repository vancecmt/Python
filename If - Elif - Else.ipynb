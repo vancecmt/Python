{
 "cells": [
  {
   "cell_type": "markdown",
   "id": "03e55e3a",
   "metadata": {},
   "source": [
    "# If - Elif - Else Statements (Conditional / Logical)"
   ]
  },
  {
   "cell_type": "code",
   "execution_count": 1,
   "id": "e8c4bffb",
   "metadata": {},
   "outputs": [],
   "source": [
    "# 1 iF\n",
    "# X elif\n",
    "# 1 else"
   ]
  },
  {
   "cell_type": "code",
   "execution_count": 4,
   "id": "a1068aba",
   "metadata": {},
   "outputs": [
    {
     "name": "stdout",
     "output_type": "stream",
     "text": [
      "Worked!\n"
     ]
    }
   ],
   "source": [
    "if 25 > 10:\n",
    "    print('Worked!')"
   ]
  },
  {
   "cell_type": "code",
   "execution_count": 6,
   "id": "c806432a",
   "metadata": {},
   "outputs": [
    {
     "name": "stdout",
     "output_type": "stream",
     "text": [
      "Invalid!\n"
     ]
    }
   ],
   "source": [
    "if 25 < 10:\n",
    "    print('Worked!')\n",
    "else:\n",
    "    print('Invalid!')"
   ]
  },
  {
   "cell_type": "code",
   "execution_count": 7,
   "id": "5404568a",
   "metadata": {},
   "outputs": [
    {
     "name": "stdout",
     "output_type": "stream",
     "text": [
      "Worked!\n"
     ]
    }
   ],
   "source": [
    "if 25 > 10:\n",
    "    print('Worked!')\n",
    "else:\n",
    "    print('Invalid!')"
   ]
  },
  {
   "cell_type": "code",
   "execution_count": 9,
   "id": "41cd1aa8",
   "metadata": {},
   "outputs": [
    {
     "name": "stdout",
     "output_type": "stream",
     "text": [
      "elif worked!\n"
     ]
    }
   ],
   "source": [
    "if 25 < 10:\n",
    "    print('Worked!')\n",
    "elif 25 < 30:\n",
    "    print('elif worked!')\n",
    "else:\n",
    "    print('Invalid!')"
   ]
  },
  {
   "cell_type": "code",
   "execution_count": 10,
   "id": "af8ab8b6",
   "metadata": {},
   "outputs": [
    {
     "name": "stdout",
     "output_type": "stream",
     "text": [
      "Worked!\n"
     ]
    }
   ],
   "source": [
    "if (25 < 10) or (2 < 5):\n",
    "    print('Worked!')\n",
    "elif 25 < 30:\n",
    "    print('elif worked!')\n",
    "else:\n",
    "    print('Invalid!')"
   ]
  },
  {
   "cell_type": "code",
   "execution_count": 12,
   "id": "f94de339",
   "metadata": {},
   "outputs": [
    {
     "name": "stdout",
     "output_type": "stream",
     "text": [
      "Invalid!\n"
     ]
    }
   ],
   "source": [
    "print ('Valid!') if (11 == 10) else print('Invalid!')"
   ]
  },
  {
   "cell_type": "code",
   "execution_count": 13,
   "id": "1b123745",
   "metadata": {},
   "outputs": [],
   "source": [
    "# NESTED IF"
   ]
  },
  {
   "cell_type": "code",
   "execution_count": 16,
   "id": "ceb2dbda",
   "metadata": {},
   "outputs": [
    {
     "name": "stdout",
     "output_type": "stream",
     "text": [
      "Worked!\n",
      "2 is indeed < 5!\n",
      "10 is indeed > 5!\n"
     ]
    }
   ],
   "source": [
    "if (25 < 10) or (2 < 5):\n",
    "    print('Worked!')\n",
    "    if 10 > 5:\n",
    "        print('2 is indeed < 5!')\n",
    "        print('10 is indeed > 5!')\n",
    "elif 25 < 30:\n",
    "    print('elif worked!')\n",
    "else:\n",
    "    print('Invalid!')"
   ]
  },
  {
   "cell_type": "code",
   "execution_count": null,
   "id": "534c69ae",
   "metadata": {},
   "outputs": [],
   "source": []
  }
 ],
 "metadata": {
  "kernelspec": {
   "display_name": "Python 3 (ipykernel)",
   "language": "python",
   "name": "python3"
  },
  "language_info": {
   "codemirror_mode": {
    "name": "ipython",
    "version": 3
   },
   "file_extension": ".py",
   "mimetype": "text/x-python",
   "name": "python",
   "nbconvert_exporter": "python",
   "pygments_lexer": "ipython3",
   "version": "3.10.9"
  }
 },
 "nbformat": 4,
 "nbformat_minor": 5
}
