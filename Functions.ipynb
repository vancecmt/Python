{
 "cells": [
  {
   "cell_type": "markdown",
   "id": "7453280c",
   "metadata": {},
   "source": [
    "# Functions"
   ]
  },
  {
   "cell_type": "code",
   "execution_count": 1,
   "id": "b1238c74",
   "metadata": {},
   "outputs": [],
   "source": [
    "# EXAMPLE\n",
    "\n",
    "    # def function():\n",
    "        # print ('My first function!')\n",
    "    # function()\n",
    "\n",
    "    # prints \"My first function!\""
   ]
  },
  {
   "cell_type": "code",
   "execution_count": 2,
   "id": "6d720a31",
   "metadata": {},
   "outputs": [],
   "source": [
    "def first_function():\n",
    "    print('Function worked!')"
   ]
  },
  {
   "cell_type": "code",
   "execution_count": 3,
   "id": "86449df8",
   "metadata": {},
   "outputs": [
    {
     "name": "stdout",
     "output_type": "stream",
     "text": [
      "Function worked!\n"
     ]
    }
   ],
   "source": [
    "first_function()"
   ]
  },
  {
   "cell_type": "code",
   "execution_count": null,
   "id": "ef7f5b28",
   "metadata": {},
   "outputs": [],
   "source": []
  },
  {
   "cell_type": "code",
   "execution_count": 4,
   "id": "fef6fb84",
   "metadata": {},
   "outputs": [],
   "source": [
    "def number_squared(number):\n",
    "    print(number**2) #^2"
   ]
  },
  {
   "cell_type": "code",
   "execution_count": 5,
   "id": "cb9ca0ec",
   "metadata": {},
   "outputs": [
    {
     "name": "stdout",
     "output_type": "stream",
     "text": [
      "25\n"
     ]
    }
   ],
   "source": [
    "number_squared(5)"
   ]
  },
  {
   "cell_type": "code",
   "execution_count": null,
   "id": "fa8a0442",
   "metadata": {},
   "outputs": [],
   "source": []
  },
  {
   "cell_type": "code",
   "execution_count": 6,
   "id": "a75168e0",
   "metadata": {},
   "outputs": [],
   "source": [
    "# TWO ARGUMENTS\n",
    "def number_squared_cust(number,power):\n",
    "    print(number**power)"
   ]
  },
  {
   "cell_type": "code",
   "execution_count": 8,
   "id": "7ed2953d",
   "metadata": {},
   "outputs": [
    {
     "name": "stdout",
     "output_type": "stream",
     "text": [
      "125\n"
     ]
    }
   ],
   "source": [
    "number_squared_cust(5,3)"
   ]
  },
  {
   "cell_type": "code",
   "execution_count": null,
   "id": "41e4555c",
   "metadata": {},
   "outputs": [],
   "source": []
  },
  {
   "cell_type": "code",
   "execution_count": 13,
   "id": "0283a3bf",
   "metadata": {},
   "outputs": [],
   "source": [
    "# ARBITUARY ARGUMENTS\n",
    "# DO NOT KNOW NUMBER OF ARGUMENTS INITIALLY\n",
    "# SPECIFY LATER WHEN CALLING THE FUNCTION\n",
    "\n",
    "args_tuple = (5,6,1,2,8)\n",
    "\n",
    "def number_args(*number):\n",
    "    print(number[0]*number[1])"
   ]
  },
  {
   "cell_type": "code",
   "execution_count": 14,
   "id": "125f6d2b",
   "metadata": {},
   "outputs": [
    {
     "name": "stdout",
     "output_type": "stream",
     "text": [
      "30\n"
     ]
    }
   ],
   "source": [
    "number_args(*args_tuple)"
   ]
  },
  {
   "cell_type": "code",
   "execution_count": null,
   "id": "6ac506fc",
   "metadata": {},
   "outputs": [],
   "source": []
  },
  {
   "cell_type": "code",
   "execution_count": null,
   "id": "d07076b9",
   "metadata": {},
   "outputs": [],
   "source": [
    "# KEYWORD ARGUMENTS"
   ]
  },
  {
   "cell_type": "code",
   "execution_count": 15,
   "id": "2181e0ce",
   "metadata": {},
   "outputs": [],
   "source": [
    "def number_squared_cust(number,power):\n",
    "    print(number**power)"
   ]
  },
  {
   "cell_type": "code",
   "execution_count": 16,
   "id": "21a8ac71",
   "metadata": {},
   "outputs": [
    {
     "name": "stdout",
     "output_type": "stream",
     "text": [
      "243\n"
     ]
    }
   ],
   "source": [
    "number_squared_cust(power = 5, number = 3)"
   ]
  },
  {
   "cell_type": "code",
   "execution_count": null,
   "id": "357aa605",
   "metadata": {},
   "outputs": [],
   "source": []
  },
  {
   "cell_type": "code",
   "execution_count": null,
   "id": "3dbd2101",
   "metadata": {},
   "outputs": [],
   "source": [
    "# ARBITUARY KEYWORD ARGUMENTS"
   ]
  },
  {
   "cell_type": "code",
   "execution_count": 27,
   "id": "3406dcf0",
   "metadata": {},
   "outputs": [],
   "source": [
    "def number_kwarg(**number):\n",
    "    print('My number is: ' + number['integer'] + '. My other number is: ' + number['integer2'])"
   ]
  },
  {
   "cell_type": "code",
   "execution_count": 28,
   "id": "034f542a",
   "metadata": {},
   "outputs": [
    {
     "name": "stdout",
     "output_type": "stream",
     "text": [
      "My number is: 4568003. My other number is: 896723\n"
     ]
    }
   ],
   "source": [
    "number_kwarg(integer = '4568003', integer2 = '896723')"
   ]
  },
  {
   "cell_type": "code",
   "execution_count": null,
   "id": "20f54414",
   "metadata": {},
   "outputs": [],
   "source": []
  }
 ],
 "metadata": {
  "kernelspec": {
   "display_name": "Python 3 (ipykernel)",
   "language": "python",
   "name": "python3"
  },
  "language_info": {
   "codemirror_mode": {
    "name": "ipython",
    "version": 3
   },
   "file_extension": ".py",
   "mimetype": "text/x-python",
   "name": "python",
   "nbconvert_exporter": "python",
   "pygments_lexer": "ipython3",
   "version": "3.10.9"
  }
 },
 "nbformat": 4,
 "nbformat_minor": 5
}
