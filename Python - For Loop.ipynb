{
 "cells": [
  {
   "cell_type": "markdown",
   "id": "93ae4540",
   "metadata": {},
   "source": [
    "# For Loops"
   ]
  },
  {
   "cell_type": "code",
   "execution_count": 1,
   "id": "b4de94aa",
   "metadata": {},
   "outputs": [],
   "source": [
    "integers = [1,2,3,4,5]"
   ]
  },
  {
   "cell_type": "code",
   "execution_count": 2,
   "id": "b6723e36",
   "metadata": {},
   "outputs": [
    {
     "name": "stdout",
     "output_type": "stream",
     "text": [
      "1\n",
      "2\n",
      "3\n",
      "4\n",
      "5\n"
     ]
    }
   ],
   "source": [
    "# SYNTAX\n",
    "\n",
    "for number in integers:\n",
    "    print(number)"
   ]
  },
  {
   "cell_type": "code",
   "execution_count": 3,
   "id": "d4b4970a",
   "metadata": {},
   "outputs": [
    {
     "name": "stdout",
     "output_type": "stream",
     "text": [
      "Yuh\n",
      "Yuh\n",
      "Yuh\n",
      "Yuh\n",
      "Yuh\n"
     ]
    }
   ],
   "source": [
    "for number in integers:\n",
    "    print('Yuh')"
   ]
  },
  {
   "cell_type": "code",
   "execution_count": null,
   "id": "f149352a",
   "metadata": {},
   "outputs": [],
   "source": [
    "integers = [1,2,3,4,5]"
   ]
  },
  {
   "cell_type": "code",
   "execution_count": 4,
   "id": "f140c072",
   "metadata": {},
   "outputs": [
    {
     "name": "stdout",
     "output_type": "stream",
     "text": [
      "2\n",
      "4\n",
      "6\n",
      "8\n",
      "10\n"
     ]
    }
   ],
   "source": [
    "for Element in integers:\n",
    "    print(Element + Element)"
   ]
  },
  {
   "cell_type": "code",
   "execution_count": null,
   "id": "1ce8b01d",
   "metadata": {},
   "outputs": [],
   "source": [
    "# DICTIONARY"
   ]
  },
  {
   "cell_type": "code",
   "execution_count": 6,
   "id": "d4db3423",
   "metadata": {},
   "outputs": [],
   "source": [
    "ice_cream_dict = {'name':'Vance Tan' , 'weekly intake':1 , 'favorite flavor':['Zanzibar Choc','Ice Latte Da']}"
   ]
  },
  {
   "cell_type": "code",
   "execution_count": 7,
   "id": "eae12432",
   "metadata": {},
   "outputs": [
    {
     "name": "stdout",
     "output_type": "stream",
     "text": [
      "Vance Tan\n",
      "1\n",
      "['Zanzibar Choc', 'Ice Latte Da']\n"
     ]
    }
   ],
   "source": [
    "# CALLING THE VALUES\n",
    "for cream in ice_cream_dict.values():\n",
    "    print(cream)"
   ]
  },
  {
   "cell_type": "code",
   "execution_count": 8,
   "id": "e68a5602",
   "metadata": {},
   "outputs": [
    {
     "name": "stdout",
     "output_type": "stream",
     "text": [
      "name -> Vance Tan\n",
      "weekly intake -> 1\n",
      "favorite flavor -> ['Zanzibar Choc', 'Ice Latte Da']\n"
     ]
    }
   ],
   "source": [
    "# CALLING BOTH KEYS AND VALUES\n",
    "for key,value in ice_cream_dict.items():\n",
    "    print(key,'->',value)"
   ]
  },
  {
   "cell_type": "code",
   "execution_count": null,
   "id": "af89bc3c",
   "metadata": {},
   "outputs": [],
   "source": []
  },
  {
   "cell_type": "code",
   "execution_count": null,
   "id": "12d32541",
   "metadata": {},
   "outputs": [],
   "source": [
    "#-------------------------------------------------------------------------------------------------------------------------------"
   ]
  },
  {
   "cell_type": "code",
   "execution_count": null,
   "id": "51fcb71c",
   "metadata": {},
   "outputs": [],
   "source": []
  },
  {
   "cell_type": "code",
   "execution_count": 9,
   "id": "3a596268",
   "metadata": {},
   "outputs": [],
   "source": [
    "# NESTED FOR LOOPS"
   ]
  },
  {
   "cell_type": "code",
   "execution_count": 11,
   "id": "fada9f8f",
   "metadata": {},
   "outputs": [],
   "source": [
    "flavors = ['Zanzibar Choc','Ice Latte Da','Butter Pecan']\n",
    "toppings = ['Choc Fudge','Oreo Crumbs','Sprinkles']"
   ]
  },
  {
   "cell_type": "code",
   "execution_count": 13,
   "id": "94f0b0b2",
   "metadata": {},
   "outputs": [
    {
     "name": "stdout",
     "output_type": "stream",
     "text": [
      "Zanzibar Choc toppedd with Choc Fudge\n",
      "Zanzibar Choc toppedd with Oreo Crumbs\n",
      "Zanzibar Choc toppedd with Sprinkles\n",
      "Ice Latte Da toppedd with Choc Fudge\n",
      "Ice Latte Da toppedd with Oreo Crumbs\n",
      "Ice Latte Da toppedd with Sprinkles\n",
      "Butter Pecan toppedd with Choc Fudge\n",
      "Butter Pecan toppedd with Oreo Crumbs\n",
      "Butter Pecan toppedd with Sprinkles\n"
     ]
    }
   ],
   "source": [
    "for one in flavors:\n",
    "    for two in toppings:\n",
    "        print(one,'toppedd with',two)"
   ]
  },
  {
   "cell_type": "code",
   "execution_count": null,
   "id": "faa5bdf2",
   "metadata": {},
   "outputs": [],
   "source": []
  },
  {
   "cell_type": "code",
   "execution_count": null,
   "id": "6f6897a1",
   "metadata": {},
   "outputs": [],
   "source": []
  }
 ],
 "metadata": {
  "kernelspec": {
   "display_name": "Python 3 (ipykernel)",
   "language": "python",
   "name": "python3"
  },
  "language_info": {
   "codemirror_mode": {
    "name": "ipython",
    "version": 3
   },
   "file_extension": ".py",
   "mimetype": "text/x-python",
   "name": "python",
   "nbconvert_exporter": "python",
   "pygments_lexer": "ipython3",
   "version": "3.10.9"
  }
 },
 "nbformat": 4,
 "nbformat_minor": 5
}
