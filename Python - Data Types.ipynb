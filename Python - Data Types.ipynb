{
 "cells": [
  {
   "cell_type": "markdown",
   "id": "c9519e65",
   "metadata": {},
   "source": [
    "# Data Types"
   ]
  },
  {
   "cell_type": "code",
   "execution_count": 4,
   "id": "362a1804",
   "metadata": {
    "scrolled": true
   },
   "outputs": [
    {
     "data": {
      "text/plain": [
       "int"
      ]
     },
     "execution_count": 4,
     "metadata": {},
     "output_type": "execute_result"
    }
   ],
   "source": [
    "# NUMERIC - INT/FLOAT/COMPLEX\n",
    "\n",
    "type(-12 + 100)"
   ]
  },
  {
   "cell_type": "code",
   "execution_count": 5,
   "id": "2b193b2b",
   "metadata": {},
   "outputs": [
    {
     "data": {
      "text/plain": [
       "float"
      ]
     },
     "execution_count": 5,
     "metadata": {},
     "output_type": "execute_result"
    }
   ],
   "source": [
    "type (12 + 1.05)"
   ]
  },
  {
   "cell_type": "code",
   "execution_count": 7,
   "id": "f26d0e3e",
   "metadata": {},
   "outputs": [
    {
     "data": {
      "text/plain": [
       "complex"
      ]
     },
     "execution_count": 7,
     "metadata": {},
     "output_type": "execute_result"
    }
   ],
   "source": [
    "type (12 + 3j)\n",
    "\n",
    "# used for imaginary number - j only"
   ]
  },
  {
   "cell_type": "code",
   "execution_count": null,
   "id": "28481898",
   "metadata": {},
   "outputs": [],
   "source": []
  },
  {
   "cell_type": "code",
   "execution_count": null,
   "id": "0ddeeffb",
   "metadata": {},
   "outputs": [],
   "source": [
    "#-------------------------------------------------------------------------------------------------------------------------------"
   ]
  },
  {
   "cell_type": "code",
   "execution_count": null,
   "id": "799dd2c0",
   "metadata": {},
   "outputs": [],
   "source": []
  },
  {
   "cell_type": "code",
   "execution_count": 9,
   "id": "00c5572a",
   "metadata": {},
   "outputs": [
    {
     "data": {
      "text/plain": [
       "bool"
      ]
     },
     "execution_count": 9,
     "metadata": {},
     "output_type": "execute_result"
    }
   ],
   "source": [
    "# BOOLEAN\n",
    "\n",
    "type(True)\n",
    "type(False)"
   ]
  },
  {
   "cell_type": "code",
   "execution_count": 10,
   "id": "d8cf98ff",
   "metadata": {},
   "outputs": [
    {
     "data": {
      "text/plain": [
       "bool"
      ]
     },
     "execution_count": 10,
     "metadata": {},
     "output_type": "execute_result"
    }
   ],
   "source": [
    "type(1 > 5)"
   ]
  },
  {
   "cell_type": "code",
   "execution_count": 11,
   "id": "078eaa0a",
   "metadata": {},
   "outputs": [
    {
     "data": {
      "text/plain": [
       "False"
      ]
     },
     "execution_count": 11,
     "metadata": {},
     "output_type": "execute_result"
    }
   ],
   "source": [
    "1 > 5"
   ]
  },
  {
   "cell_type": "code",
   "execution_count": 12,
   "id": "bbf5aae4",
   "metadata": {},
   "outputs": [
    {
     "data": {
      "text/plain": [
       "True"
      ]
     },
     "execution_count": 12,
     "metadata": {},
     "output_type": "execute_result"
    }
   ],
   "source": [
    "1 == 1"
   ]
  },
  {
   "cell_type": "code",
   "execution_count": null,
   "id": "e4f0e86a",
   "metadata": {},
   "outputs": [],
   "source": []
  },
  {
   "cell_type": "code",
   "execution_count": null,
   "id": "b66fa5f6",
   "metadata": {},
   "outputs": [],
   "source": [
    "#-------------------------------------------------------------------------------------------------------------------------------"
   ]
  },
  {
   "cell_type": "code",
   "execution_count": null,
   "id": "10f6ab34",
   "metadata": {},
   "outputs": [],
   "source": []
  },
  {
   "cell_type": "code",
   "execution_count": 13,
   "id": "b40b0119",
   "metadata": {},
   "outputs": [
    {
     "data": {
      "text/plain": [
       "'Sinlge Quote'"
      ]
     },
     "execution_count": 13,
     "metadata": {},
     "output_type": "execute_result"
    }
   ],
   "source": [
    "# STRINGS\n",
    "\n",
    "'Sinlge Quote'"
   ]
  },
  {
   "cell_type": "code",
   "execution_count": 14,
   "id": "7823909b",
   "metadata": {},
   "outputs": [
    {
     "data": {
      "text/plain": [
       "'Double Quote'"
      ]
     },
     "execution_count": 14,
     "metadata": {},
     "output_type": "execute_result"
    }
   ],
   "source": [
    "\"Double Quote\""
   ]
  },
  {
   "cell_type": "code",
   "execution_count": 19,
   "id": "ecf05a5e",
   "metadata": {},
   "outputs": [],
   "source": [
    "multiline = \"\"\"\n",
    "The ice cream vanquished\n",
    "my longing for sweets,\n",
    "upon this diet I look away,\n",
    "it no longer exists on this day.\n",
    "\"\"\""
   ]
  },
  {
   "cell_type": "code",
   "execution_count": 20,
   "id": "50e6c16d",
   "metadata": {},
   "outputs": [
    {
     "name": "stdout",
     "output_type": "stream",
     "text": [
      "\n",
      "The ice cream vanquished\n",
      "my longing for sweets,\n",
      "upon this diet I look away,\n",
      "it no longer exists on this day.\n",
      "\n"
     ]
    }
   ],
   "source": [
    "print(multiline)"
   ]
  },
  {
   "cell_type": "code",
   "execution_count": 21,
   "id": "3ed059ab",
   "metadata": {},
   "outputs": [
    {
     "data": {
      "text/plain": [
       "\"I've always wanted to eat a gallon of ice cream.\""
      ]
     },
     "execution_count": 21,
     "metadata": {},
     "output_type": "execute_result"
    }
   ],
   "source": [
    "\"I've always wanted to eat a gallon of ice cream.\""
   ]
  },
  {
   "cell_type": "code",
   "execution_count": 23,
   "id": "a3cfb8da",
   "metadata": {},
   "outputs": [],
   "source": [
    "a = 'Hello World!'"
   ]
  },
  {
   "cell_type": "code",
   "execution_count": 29,
   "id": "634bf856",
   "metadata": {},
   "outputs": [
    {
     "name": "stdout",
     "output_type": "stream",
     "text": [
      "Hello\n",
      "W\n",
      "l\n",
      "llo W\n"
     ]
    }
   ],
   "source": [
    "print(a[:5])\n",
    "print(a[6])\n",
    "print(a[-3])\n",
    "print(a[2:7])"
   ]
  },
  {
   "cell_type": "code",
   "execution_count": 30,
   "id": "b9d618c4",
   "metadata": {},
   "outputs": [
    {
     "data": {
      "text/plain": [
       "'Hello World!Hello World!Hello World!'"
      ]
     },
     "execution_count": 30,
     "metadata": {},
     "output_type": "execute_result"
    }
   ],
   "source": [
    "a*3"
   ]
  },
  {
   "cell_type": "code",
   "execution_count": 70,
   "id": "69eeae4c",
   "metadata": {
    "scrolled": true
   },
   "outputs": [
    {
     "data": {
      "text/plain": [
       "'Hello World!Hello World!'"
      ]
     },
     "execution_count": 70,
     "metadata": {},
     "output_type": "execute_result"
    }
   ],
   "source": [
    "a + a"
   ]
  },
  {
   "cell_type": "code",
   "execution_count": null,
   "id": "0d1b02dc",
   "metadata": {},
   "outputs": [],
   "source": []
  },
  {
   "cell_type": "code",
   "execution_count": null,
   "id": "d18092fb",
   "metadata": {},
   "outputs": [],
   "source": [
    "#-------------------------------------------------------------------------------------------------------------------------------"
   ]
  },
  {
   "cell_type": "code",
   "execution_count": null,
   "id": "1d7120c4",
   "metadata": {},
   "outputs": [],
   "source": []
  },
  {
   "cell_type": "code",
   "execution_count": 33,
   "id": "0ac68e76",
   "metadata": {},
   "outputs": [
    {
     "data": {
      "text/plain": [
       "[1, 2, 3]"
      ]
     },
     "execution_count": 33,
     "metadata": {},
     "output_type": "execute_result"
    }
   ],
   "source": [
    "# LISTS - STORE MULTIPLE VALUES\n",
    "\n",
    "[1,2,3] "
   ]
  },
  {
   "cell_type": "code",
   "execution_count": 34,
   "id": "64714ef2",
   "metadata": {},
   "outputs": [
    {
     "data": {
      "text/plain": [
       "['Chocolate', 'Vanilla', 'Strawberry']"
      ]
     },
     "execution_count": 34,
     "metadata": {},
     "output_type": "execute_result"
    }
   ],
   "source": [
    "['Chocolate','Vanilla','Strawberry']"
   ]
  },
  {
   "cell_type": "code",
   "execution_count": 35,
   "id": "f09d9aad",
   "metadata": {},
   "outputs": [
    {
     "data": {
      "text/plain": [
       "['Vanilla', 3, ['Scoops', 'Spoon'], True]"
      ]
     },
     "execution_count": 35,
     "metadata": {},
     "output_type": "execute_result"
    }
   ],
   "source": [
    "['Vanilla', 3, ['Scoops', 'Spoon'], True]"
   ]
  },
  {
   "cell_type": "code",
   "execution_count": 38,
   "id": "0c4901a6",
   "metadata": {},
   "outputs": [
    {
     "data": {
      "text/plain": [
       "['Chocolate', 'Vanilla', 'Strawberry', 'Salted Caramel']"
      ]
     },
     "execution_count": 38,
     "metadata": {},
     "output_type": "execute_result"
    }
   ],
   "source": [
    "ice_cream = ['Chocolate','Vanilla','Strawberry']\n",
    "\n",
    "ice_cream.append('Salted Caramel')\n",
    "\n",
    "ice_cream"
   ]
  },
  {
   "cell_type": "code",
   "execution_count": 40,
   "id": "f3215f4d",
   "metadata": {},
   "outputs": [
    {
     "data": {
      "text/plain": [
       "['Butter Pecan', 'Vanilla', 'Strawberry', 'Salted Caramel']"
      ]
     },
     "execution_count": 40,
     "metadata": {},
     "output_type": "execute_result"
    }
   ],
   "source": [
    "ice_cream[0] = 'Butter Pecan'\n",
    "\n",
    "ice_cream"
   ]
  },
  {
   "cell_type": "code",
   "execution_count": 41,
   "id": "def5f2a2",
   "metadata": {},
   "outputs": [],
   "source": [
    "nest_list = ['Vanilla', 3, ['Scoops', 'Spoon'], True]"
   ]
  },
  {
   "cell_type": "code",
   "execution_count": 48,
   "id": "835b040c",
   "metadata": {
    "scrolled": true
   },
   "outputs": [
    {
     "data": {
      "text/plain": [
       "'Scoops'"
      ]
     },
     "execution_count": 48,
     "metadata": {},
     "output_type": "execute_result"
    }
   ],
   "source": [
    "nest_list[2][0]"
   ]
  },
  {
   "cell_type": "code",
   "execution_count": null,
   "id": "96cef9b9",
   "metadata": {},
   "outputs": [],
   "source": []
  },
  {
   "cell_type": "code",
   "execution_count": null,
   "id": "14fa98c7",
   "metadata": {},
   "outputs": [],
   "source": [
    "#-------------------------------------------------------------------------------------------------------------------------------"
   ]
  },
  {
   "cell_type": "code",
   "execution_count": null,
   "id": "3c10bd81",
   "metadata": {},
   "outputs": [],
   "source": []
  },
  {
   "cell_type": "code",
   "execution_count": 49,
   "id": "fbddeb73",
   "metadata": {},
   "outputs": [],
   "source": [
    "# TUPLE - IMMUTABLE\n",
    "\n",
    "tuple_scoops = (1,2,3,2,1)"
   ]
  },
  {
   "cell_type": "code",
   "execution_count": 50,
   "id": "bb5701f4",
   "metadata": {},
   "outputs": [
    {
     "data": {
      "text/plain": [
       "tuple"
      ]
     },
     "execution_count": 50,
     "metadata": {},
     "output_type": "execute_result"
    }
   ],
   "source": [
    "type(tuple_scoops)"
   ]
  },
  {
   "cell_type": "code",
   "execution_count": 51,
   "id": "842a2a70",
   "metadata": {},
   "outputs": [
    {
     "data": {
      "text/plain": [
       "2"
      ]
     },
     "execution_count": 51,
     "metadata": {},
     "output_type": "execute_result"
    }
   ],
   "source": [
    "tuple_scoops[1]"
   ]
  },
  {
   "cell_type": "code",
   "execution_count": 52,
   "id": "ba47f9c0",
   "metadata": {},
   "outputs": [
    {
     "ename": "AttributeError",
     "evalue": "'tuple' object has no attribute 'append'",
     "output_type": "error",
     "traceback": [
      "\u001b[1;31m---------------------------------------------------------------------------\u001b[0m",
      "\u001b[1;31mAttributeError\u001b[0m                            Traceback (most recent call last)",
      "Cell \u001b[1;32mIn[52], line 1\u001b[0m\n\u001b[1;32m----> 1\u001b[0m \u001b[43mtuple_scoops\u001b[49m\u001b[38;5;241;43m.\u001b[39;49m\u001b[43mappend\u001b[49m(\u001b[38;5;241m3\u001b[39m)\n",
      "\u001b[1;31mAttributeError\u001b[0m: 'tuple' object has no attribute 'append'"
     ]
    }
   ],
   "source": [
    "tuple_scoops.append(3)\n",
    "\n",
    "# INVALID BECAUSE TUPLE IS IMMUTABLE/UNCHANGING\n",
    "# I.E. CITY NAME/COUNTRY/LOCATION\n",
    "# LIST IS MORE POPULAR"
   ]
  },
  {
   "cell_type": "code",
   "execution_count": null,
   "id": "8ace75b5",
   "metadata": {},
   "outputs": [],
   "source": []
  },
  {
   "cell_type": "code",
   "execution_count": null,
   "id": "abe68e96",
   "metadata": {},
   "outputs": [],
   "source": [
    "#-------------------------------------------------------------------------------------------------------------------------------"
   ]
  },
  {
   "cell_type": "code",
   "execution_count": null,
   "id": "809ee08b",
   "metadata": {},
   "outputs": [],
   "source": []
  },
  {
   "cell_type": "code",
   "execution_count": null,
   "id": "5cb5026a",
   "metadata": {},
   "outputs": [],
   "source": [
    "# SETS {}\n",
    "# SIMILAR TO LIST & TUPLE\n",
    "# BUT POSSESS NO DUPLICATE ELEMENTS\n",
    "# VALUES WITHIN A SET DO NOT HAVE INDICES - UNORDERED"
   ]
  },
  {
   "cell_type": "code",
   "execution_count": 53,
   "id": "f849fba8",
   "metadata": {},
   "outputs": [],
   "source": [
    "daily_pints = {1,2,3}"
   ]
  },
  {
   "cell_type": "code",
   "execution_count": 54,
   "id": "285a9e61",
   "metadata": {},
   "outputs": [
    {
     "data": {
      "text/plain": [
       "set"
      ]
     },
     "execution_count": 54,
     "metadata": {},
     "output_type": "execute_result"
    }
   ],
   "source": [
    "type(daily_pints)"
   ]
  },
  {
   "cell_type": "code",
   "execution_count": 55,
   "id": "ae614c16",
   "metadata": {},
   "outputs": [
    {
     "name": "stdout",
     "output_type": "stream",
     "text": [
      "{1, 2, 3}\n"
     ]
    }
   ],
   "source": [
    "print(daily_pints)"
   ]
  },
  {
   "cell_type": "code",
   "execution_count": 57,
   "id": "daefce02",
   "metadata": {},
   "outputs": [
    {
     "name": "stdout",
     "output_type": "stream",
     "text": [
      "{1, 2, 3, 4, 5, 6, 7, 8}\n"
     ]
    }
   ],
   "source": [
    "daily_pints_log = {1,2,3,2,5,6,7,8,5,2,4,7}\n",
    "print(daily_pints_log)\n",
    "# PRINT JUST THE UNIQUE VALUES"
   ]
  },
  {
   "cell_type": "code",
   "execution_count": null,
   "id": "90e89636",
   "metadata": {},
   "outputs": [],
   "source": [
    "# USE CASE: COMPARING 2 SEPARATE SETS\n",
    "# I.E. A LIST OR A TUPLE, CONVERT TO SET\n",
    "# NARROW DOWN TO UNIQUE VALUES\n",
    "# COMPARE UNIQUE VALUES TO DETERMINE WHAT'S SAME/DIFF"
   ]
  },
  {
   "cell_type": "code",
   "execution_count": 59,
   "id": "6e19bfbd",
   "metadata": {},
   "outputs": [],
   "source": [
    "wifes_daily_pints_log = {1,6,7,7,9,3,1,0,12,4,7,8}"
   ]
  },
  {
   "cell_type": "code",
   "execution_count": 60,
   "id": "b129544f",
   "metadata": {},
   "outputs": [
    {
     "name": "stdout",
     "output_type": "stream",
     "text": [
      "{0, 1, 2, 3, 4, 5, 6, 7, 8, 9, 12}\n"
     ]
    }
   ],
   "source": [
    "print(daily_pints_log | wifes_daily_pint_log)\n",
    "# SHOW COMBINED UNIQUE VALUES"
   ]
  },
  {
   "cell_type": "code",
   "execution_count": 61,
   "id": "ab0add7b",
   "metadata": {},
   "outputs": [
    {
     "name": "stdout",
     "output_type": "stream",
     "text": [
      "{1, 3, 4, 6, 7, 8}\n"
     ]
    }
   ],
   "source": [
    "print(daily_pints_log & wifes_daily_pint_log)\n",
    "# VALUES THAT EXISTS IN BOTH SETS"
   ]
  },
  {
   "cell_type": "code",
   "execution_count": 63,
   "id": "243bd404",
   "metadata": {},
   "outputs": [
    {
     "name": "stdout",
     "output_type": "stream",
     "text": [
      "{2, 5}\n",
      "{0, 9, 12}\n"
     ]
    }
   ],
   "source": [
    "print(daily_pints_log - wifes_daily_pint_log)\n",
    "# VALUES THAT DO NOT MATCH\n",
    "print(wifes_daily_pint_log - daily_pints_log)"
   ]
  },
  {
   "cell_type": "code",
   "execution_count": 66,
   "id": "193d7a35",
   "metadata": {},
   "outputs": [
    {
     "name": "stdout",
     "output_type": "stream",
     "text": [
      "{0, 2, 5, 9, 12}\n"
     ]
    }
   ],
   "source": [
    "print(daily_pints_log ^ wifes_daily_pint_log)\n",
    "# VALUES IN ONE OF THE OTHER, NOT IN BOTH"
   ]
  },
  {
   "cell_type": "code",
   "execution_count": null,
   "id": "5a6248ae",
   "metadata": {},
   "outputs": [],
   "source": []
  },
  {
   "cell_type": "code",
   "execution_count": null,
   "id": "098cc437",
   "metadata": {},
   "outputs": [],
   "source": [
    "#-------------------------------------------------------------------------------------------------------------------------------"
   ]
  },
  {
   "cell_type": "code",
   "execution_count": null,
   "id": "d383a6f9",
   "metadata": {},
   "outputs": [],
   "source": []
  },
  {
   "cell_type": "code",
   "execution_count": 67,
   "id": "5b5e3ee5",
   "metadata": {},
   "outputs": [],
   "source": [
    "# DICTIONARIES\n",
    "# WITHIN A DATA TYPE - KEY/VALUE PAIR\n",
    "\n",
    "dict_cream = { 'name':'Vance Tan' , 'weekly intake':5 , 'favorite beverages':['Milo','Coffee'] }"
   ]
  },
  {
   "cell_type": "code",
   "execution_count": 68,
   "id": "022e40d3",
   "metadata": {},
   "outputs": [
    {
     "data": {
      "text/plain": [
       "dict"
      ]
     },
     "execution_count": 68,
     "metadata": {},
     "output_type": "execute_result"
    }
   ],
   "source": [
    "type(dict_cream)"
   ]
  },
  {
   "cell_type": "code",
   "execution_count": 69,
   "id": "77295b24",
   "metadata": {},
   "outputs": [
    {
     "name": "stdout",
     "output_type": "stream",
     "text": [
      "{'name': 'Vance Tan', 'weekly intake': 5, 'favorite beverages': ['Milo', 'Coffee']}\n"
     ]
    }
   ],
   "source": [
    "print(dict_cream)"
   ]
  },
  {
   "cell_type": "code",
   "execution_count": 71,
   "id": "0d2f3425",
   "metadata": {},
   "outputs": [
    {
     "data": {
      "text/plain": [
       "dict_values(['Vance Tan', 5, ['Milo', 'Coffee']])"
      ]
     },
     "execution_count": 71,
     "metadata": {},
     "output_type": "execute_result"
    }
   ],
   "source": [
    "dict_cream.values()"
   ]
  },
  {
   "cell_type": "code",
   "execution_count": 72,
   "id": "6d073e1d",
   "metadata": {},
   "outputs": [
    {
     "data": {
      "text/plain": [
       "dict_keys(['name', 'weekly intake', 'favorite beverages'])"
      ]
     },
     "execution_count": 72,
     "metadata": {},
     "output_type": "execute_result"
    }
   ],
   "source": [
    "dict_cream.keys()"
   ]
  },
  {
   "cell_type": "code",
   "execution_count": 73,
   "id": "87c292f4",
   "metadata": {},
   "outputs": [
    {
     "data": {
      "text/plain": [
       "dict_items([('name', 'Vance Tan'), ('weekly intake', 5), ('favorite beverages', ['Milo', 'Coffee'])])"
      ]
     },
     "execution_count": 73,
     "metadata": {},
     "output_type": "execute_result"
    }
   ],
   "source": [
    "dict_cream.items()"
   ]
  },
  {
   "cell_type": "code",
   "execution_count": 74,
   "id": "82086a03",
   "metadata": {},
   "outputs": [],
   "source": [
    "# DIFFERENCE BETWEEN LIST & DICT IS INDEX CALLING METHOD\n",
    "# INVALID - dict_cream[0]"
   ]
  },
  {
   "cell_type": "code",
   "execution_count": 76,
   "id": "d624ec96",
   "metadata": {},
   "outputs": [
    {
     "data": {
      "text/plain": [
       "'Vance Tan'"
      ]
     },
     "execution_count": 76,
     "metadata": {},
     "output_type": "execute_result"
    }
   ],
   "source": [
    "dict_cream['name']"
   ]
  },
  {
   "cell_type": "code",
   "execution_count": 77,
   "id": "322f2272",
   "metadata": {},
   "outputs": [],
   "source": [
    "# UPDATE INFORMATION\n",
    "dict_cream['name'] = 'Nicole Tan'"
   ]
  },
  {
   "cell_type": "code",
   "execution_count": 78,
   "id": "bb84588c",
   "metadata": {},
   "outputs": [
    {
     "name": "stdout",
     "output_type": "stream",
     "text": [
      "{'name': 'Nicole Tan', 'weekly intake': 5, 'favorite beverages': ['Milo', 'Coffee']}\n"
     ]
    }
   ],
   "source": [
    "print(dict_cream)"
   ]
  },
  {
   "cell_type": "code",
   "execution_count": 79,
   "id": "5cab1eaf",
   "metadata": {},
   "outputs": [],
   "source": [
    "# UPDATE ALL VALUES IN ONE TIME"
   ]
  },
  {
   "cell_type": "code",
   "execution_count": 80,
   "id": "0a991502",
   "metadata": {},
   "outputs": [
    {
     "name": "stdout",
     "output_type": "stream",
     "text": [
      "{'name': 'Nicole Tan', 'weekly intake': 7, 'favorite beverages': ['Milo', 'Coffee'], 'weight': 47}\n"
     ]
    }
   ],
   "source": [
    "dict_cream.update({'name': 'Nicole Tan', 'weekly intake': 7, 'weight': 47})\n",
    "print(dict_cream)"
   ]
  },
  {
   "cell_type": "code",
   "execution_count": 82,
   "id": "8a39396d",
   "metadata": {},
   "outputs": [],
   "source": [
    "# UPDATE DOES NOT REPLACE EXISTING PAIRS, IT ONLY ADD IN VALUES\n",
    "# UPDATING VALUES WITHIN EXISTING PAIS IS VALID\n",
    "# TO REMOVE VALUES, USE DELETE STATEMENT"
   ]
  },
  {
   "cell_type": "code",
   "execution_count": 83,
   "id": "daf36e5f",
   "metadata": {},
   "outputs": [
    {
     "name": "stdout",
     "output_type": "stream",
     "text": [
      "{'name': 'Nicole Tan', 'weekly intake': 7, 'favorite beverages': ['Milo', 'Coffee']}\n"
     ]
    }
   ],
   "source": [
    "del dict_cream['weight']\n",
    "print(dict_cream)"
   ]
  },
  {
   "cell_type": "code",
   "execution_count": null,
   "id": "301a5980",
   "metadata": {},
   "outputs": [],
   "source": []
  }
 ],
 "metadata": {
  "kernelspec": {
   "display_name": "Python 3 (ipykernel)",
   "language": "python",
   "name": "python3"
  },
  "language_info": {
   "codemirror_mode": {
    "name": "ipython",
    "version": 3
   },
   "file_extension": ".py",
   "mimetype": "text/x-python",
   "name": "python",
   "nbconvert_exporter": "python",
   "pygments_lexer": "ipython3",
   "version": "3.10.9"
  }
 },
 "nbformat": 4,
 "nbformat_minor": 5
}
